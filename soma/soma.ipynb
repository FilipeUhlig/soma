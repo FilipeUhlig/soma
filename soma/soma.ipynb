{
 "cells": [
  {
   "cell_type": "markdown",
   "id": "85e67166",
   "metadata": {},
   "source": [
    "## Soma Sequencial"
   ]
  },
  {
   "cell_type": "code",
   "execution_count": 1,
   "id": "700fde4f",
   "metadata": {},
   "outputs": [],
   "source": [
    "# Atribuição de variáveis\n",
    "numero1 = 0\n",
    "numero2 = 0\n",
    "soma = 0"
   ]
  },
  {
   "cell_type": "code",
   "execution_count": 2,
   "id": "d34f4d24",
   "metadata": {},
   "outputs": [
    {
     "name": "stdout",
     "output_type": "stream",
     "text": [
      "Digite o primeiro número: 2\n",
      "Digite o segundo número: 4\n"
     ]
    }
   ],
   "source": [
    "# Entrada de dados\n",
    "numero1 = float(input(\"Digite o primeiro número: \"))\n",
    "numero2 = float(input(\"Digite o segundo número: \"))\n"
   ]
  },
  {
   "cell_type": "code",
   "execution_count": 3,
   "id": "58e3dc00",
   "metadata": {},
   "outputs": [],
   "source": [
    "# Processamento de dados\n",
    "\n",
    "soma = numero1 + numero2"
   ]
  },
  {
   "cell_type": "code",
   "execution_count": 5,
   "id": "b161269d",
   "metadata": {},
   "outputs": [
    {
     "name": "stdout",
     "output_type": "stream",
     "text": [
      "A soma dos números 2.0 e 4.0 é igual a 6.0.\n"
     ]
    }
   ],
   "source": [
    "# Saida de dados\n",
    "print(f\"A soma dos números {numero1} e {numero2} é igual a {soma}.\")"
   ]
  },
  {
   "cell_type": "markdown",
   "id": "4d620993",
   "metadata": {},
   "source": [
    "## Soma Estruturada"
   ]
  },
  {
   "cell_type": "code",
   "execution_count": 40,
   "id": "6f10483e",
   "metadata": {},
   "outputs": [],
   "source": [
    "# Atribuição de variáveis\n",
    "numeros = []\n",
    "soma = 0\n",
    "i = 0"
   ]
  },
  {
   "cell_type": "code",
   "execution_count": 41,
   "id": "c802a5c7",
   "metadata": {},
   "outputs": [
    {
     "name": "stdout",
     "output_type": "stream",
     "text": [
      "Digite o 1º número: 5\n",
      "Digite o 2º número: 9\n"
     ]
    }
   ],
   "source": [
    "# Entrada de dados\n",
    "\n",
    "while i < 2:\n",
    "    numeros.append(float(input(f\"Digite o {i + 1}º número: \")))\n",
    "    i += 1"
   ]
  },
  {
   "cell_type": "code",
   "execution_count": 42,
   "id": "156f1851",
   "metadata": {},
   "outputs": [],
   "source": [
    "# Processamento de dados 2\n",
    "\n",
    "for numero in numeros:\n",
    "    soma += numero"
   ]
  },
  {
   "cell_type": "code",
   "execution_count": 43,
   "id": "d9913bf0",
   "metadata": {},
   "outputs": [
    {
     "name": "stdout",
     "output_type": "stream",
     "text": [
      " A soma dos números 5.0 e 9.0 é igual a 14.0.\n"
     ]
    }
   ],
   "source": [
    "# Saida de dados\n",
    "print(f\" A soma dos números {numeros[0]} e {numeros[1]} é igual a {soma}.\")"
   ]
  },
  {
   "cell_type": "markdown",
   "id": "a785ef85",
   "metadata": {},
   "source": [
    "## Soma Procedural v.0.0.1"
   ]
  },
  {
   "cell_type": "code",
   "execution_count": 49,
   "id": "7211781d",
   "metadata": {},
   "outputs": [],
   "source": [
    "# Atribuição de variáveis\n",
    "numeros = []\n",
    "soma = 0\n",
    "i = 0\n",
    "\n",
    "def adicao(x,y): #Função\n",
    "    return x+y\n"
   ]
  },
  {
   "cell_type": "code",
   "execution_count": 50,
   "id": "7723f92c",
   "metadata": {},
   "outputs": [
    {
     "name": "stdout",
     "output_type": "stream",
     "text": [
      "Digite o 1º número: 3\n",
      "Digite o 2º número: 4\n"
     ]
    }
   ],
   "source": [
    "# Entrada de dados\n",
    "\n",
    "while i < 2:\n",
    "    numeros.append(float(input(f\"Digite o {i + 1}º número: \")))\n",
    "    i += 1"
   ]
  },
  {
   "cell_type": "code",
   "execution_count": 51,
   "id": "57eecf90",
   "metadata": {},
   "outputs": [],
   "source": [
    "# Processamento de dados\n",
    "\n",
    "soma = adicao(numeros[0], numeros[1])"
   ]
  },
  {
   "cell_type": "code",
   "execution_count": 53,
   "id": "1c95b6ab",
   "metadata": {},
   "outputs": [
    {
     "name": "stdout",
     "output_type": "stream",
     "text": [
      " A soma dos números 3.0 e 4.0 é igual a 7.0.\n"
     ]
    }
   ],
   "source": [
    "# Saida de dados\n",
    "print(f\" A soma dos números {numeros[0]} e {numeros[1]} é igual a {soma}.\")"
   ]
  },
  {
   "cell_type": "markdown",
   "id": "36425b1f",
   "metadata": {},
   "source": [
    "## Soma Procedural v.0.0.2"
   ]
  },
  {
   "cell_type": "code",
   "execution_count": 61,
   "id": "831b8d6c",
   "metadata": {},
   "outputs": [],
   "source": [
    "# Atribuição de variáveis\n",
    "numeros = []\n",
    "soma = 0\n",
    "i = 0\n",
    "\n",
    "##Entrada de dados\n",
    "\n",
    "def leitora_numeros(): ###Função, a função tem um escopo local\n",
    "    i = 0\n",
    "    while i < 2:\n",
    "        numeros.append(float(input(f\"Digite o {i + 1}º número: \")))\n",
    "        i += 1\n",
    "    return numeros\n",
    "\n",
    "\n",
    "\n",
    "\n",
    "##Processamento de dados\n",
    "\n",
    "def adicao(x,y): ###Função\n",
    "    return x+y\n",
    "\n",
    "##Saida de dados\n",
    "\n",
    "def escritora_numeros(x,y,z): ###Função\n",
    "    print(f\" A soma dos números {x} e {y} é igual a {z}.\")"
   ]
  },
  {
   "cell_type": "code",
   "execution_count": 62,
   "id": "a6ca4fb1",
   "metadata": {},
   "outputs": [
    {
     "name": "stdout",
     "output_type": "stream",
     "text": [
      "Digite o 1º número: 8\n",
      "Digite o 2º número: 7\n"
     ]
    }
   ],
   "source": [
    "# Entrada de dados\n",
    "\n",
    "numeros = leitora_numeros() #Resultado da execução leitora_numeros é guardado na lista numeros."
   ]
  },
  {
   "cell_type": "code",
   "execution_count": 65,
   "id": "53d0ca33",
   "metadata": {},
   "outputs": [],
   "source": [
    "# Processamento de dados\n",
    "\n",
    "soma = adicao(numeros[0],numeros[1]) #Resultado da execução da função soma"
   ]
  },
  {
   "cell_type": "code",
   "execution_count": 66,
   "id": "d82fea2f",
   "metadata": {},
   "outputs": [
    {
     "name": "stdout",
     "output_type": "stream",
     "text": [
      " A soma dos números 8.0 e 7.0 é igual a 15.0.\n"
     ]
    }
   ],
   "source": [
    "# Saida de dados\n",
    "escritora_numeros(numeros[0], numeros[1], soma) #Resultado da função de escritora de numeros"
   ]
  },
  {
   "cell_type": "markdown",
   "id": "624bbeb5",
   "metadata": {},
   "source": [
    "## Soma Procedural v0.0.3"
   ]
  },
  {
   "cell_type": "code",
   "execution_count": 76,
   "id": "7a74d237",
   "metadata": {},
   "outputs": [
    {
     "name": "stdout",
     "output_type": "stream",
     "text": [
      "Digite o 1º número: 3\n",
      "Digite o 2º número: 4\n",
      " A soma dos números 3.0 e 4.0 é igual a 7.0.\n"
     ]
    }
   ],
   "source": [
    "#Definindo objetos\n",
    "\n",
    "def leitora_numeros(): ###Função, a função tem um escopo local\n",
    "    numeros = [] #numeros aqui só é estabelecido para a função leitora\n",
    "    i = 0\n",
    "    while i < 2:\n",
    "        numeros.append(float(input(f\"Digite o {i + 1}º número: \")))\n",
    "        i += 1\n",
    "    return numeros\n",
    "\n",
    "##Processamento de dados\n",
    "\n",
    "def adicao(x,y): ###Função\n",
    "    return x+y\n",
    "\n",
    "##Saida de dados\n",
    "\n",
    "def escritora_numeros(x,y,z): ###Função\n",
    "    print(f\" A soma dos números {x} e {y} é igual a {z}.\")\n",
    "    \n",
    "    \n",
    "def main(): #Função principal que invoca as funções\n",
    "    #Atribuição de variáveis\n",
    "    numeros = [] #numeros aqui eh invocado de fato\n",
    "    soma = 0\n",
    "    \n",
    "    #Entrada de dados\n",
    "    numeros = leitora_numeros()\n",
    "    \n",
    "    #Processamento de dados\n",
    "    soma = adicao(numeros[0],numeros[1])\n",
    "    \n",
    "    #Saida de dados\n",
    "    escritora_numeros(numeros[0], numeros[1], soma)\n",
    "    \n",
    "#Invocando main\n",
    "main()"
   ]
  },
  {
   "cell_type": "markdown",
   "id": "62d2c4d6",
   "metadata": {},
   "source": [
    "## Soma Procedural v0.0.4"
   ]
  },
  {
   "cell_type": "code",
   "execution_count": 78,
   "id": "4c4f3fc6",
   "metadata": {},
   "outputs": [
    {
     "name": "stdout",
     "output_type": "stream",
     "text": [
      "Digite o 1º número: 4\n",
      "Digite o 2º número: 5\n",
      " A soma dos números 4.0 e 5.0 é igual a 9.0.\n"
     ]
    }
   ],
   "source": [
    "#Definindo objetos\n",
    "\n",
    "def leitora_numeros(): ###Função, a função tem um escopo local\n",
    "    numeros = [] #numeros aqui só é estabelecido para a função leitora\n",
    "    i = 0\n",
    "    while i < 2:\n",
    "        numeros.append(float(input(f\"Digite o {i + 1}º número: \")))\n",
    "        i += 1\n",
    "    return numeros\n",
    "\n",
    "##Processamento de dados\n",
    "\n",
    "def adicao(x,y): ###Função\n",
    "    return x+y\n",
    "\n",
    "##Saida de dados\n",
    "\n",
    "def escritora_numeros(x,y,z): ###Função\n",
    "    print(f\" A soma dos números {x} e {y} é igual a {z}.\")\n",
    "    \n",
    "    \n",
    "def main(): #Função principal que invoca as funções\n",
    "    #Atribuição de variáveis\n",
    "    numeros = [] #numeros aqui eh invocado de fato\n",
    "    soma = 0\n",
    "    \n",
    "    #Entrada de dados\n",
    "    numeros = leitora_numeros()\n",
    "    \n",
    "    #Processamento de dados\n",
    "    soma = adicao(numeros[0],numeros[1])\n",
    "    \n",
    "    #Saida de dados\n",
    "    escritora_numeros(numeros[0], numeros[1], soma)\n",
    "    \n",
    "#Invocando main\n",
    "if __name__ == \"__main__\":\n",
    "    main()"
   ]
  },
  {
   "cell_type": "code",
   "execution_count": null,
   "id": "706ac9d0",
   "metadata": {},
   "outputs": [],
   "source": []
  }
 ],
 "metadata": {
  "kernelspec": {
   "display_name": "Python 3 (ipykernel)",
   "language": "python",
   "name": "python3"
  },
  "language_info": {
   "codemirror_mode": {
    "name": "ipython",
    "version": 3
   },
   "file_extension": ".py",
   "mimetype": "text/x-python",
   "name": "python",
   "nbconvert_exporter": "python",
   "pygments_lexer": "ipython3",
   "version": "3.10.9"
  }
 },
 "nbformat": 4,
 "nbformat_minor": 5
}
